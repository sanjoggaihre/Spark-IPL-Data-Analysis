{
 "cells": [
  {
   "cell_type": "code",
   "execution_count": 0,
   "metadata": {
    "application/vnd.databricks.v1+cell": {
     "cellMetadata": {
      "byteLimit": 2048000,
      "rowLimit": 10000
     },
     "inputWidgets": {},
     "nuid": "f9ad88ee-3e67-4d93-a13c-953cfd58b815",
     "showTitle": false,
     "tableResultSettingsMap": {},
     "title": ""
    }
   },
   "outputs": [
    {
     "output_type": "display_data",
     "data": {
      "text/html": [
       "\n",
       "            <div>\n",
       "                <p><b>SparkSession - hive</b></p>\n",
       "                \n",
       "        <div>\n",
       "            <p><b>SparkContext</b></p>\n",
       "\n",
       "            <p><a href=\"/?o=980462497420430#setting/sparkui/0225-103020-m1q5nqrz/driver-8769663462019580051\">Spark UI</a></p>\n",
       "\n",
       "            <dl>\n",
       "              <dt>Version</dt>\n",
       "                <dd><code>v3.3.2</code></dd>\n",
       "              <dt>Master</dt>\n",
       "                <dd><code>local[8]</code></dd>\n",
       "              <dt>AppName</dt>\n",
       "                <dd><code>Databricks Shell</code></dd>\n",
       "            </dl>\n",
       "        </div>\n",
       "        \n",
       "            </div>\n",
       "        "
      ]
     },
     "metadata": {
      "application/vnd.databricks.v1+output": {
       "addedWidgets": {},
       "arguments": {},
       "data": "\n            <div>\n                <p><b>SparkSession - hive</b></p>\n                \n        <div>\n            <p><b>SparkContext</b></p>\n\n            <p><a href=\"/?o=980462497420430#setting/sparkui/0225-103020-m1q5nqrz/driver-8769663462019580051\">Spark UI</a></p>\n\n            <dl>\n              <dt>Version</dt>\n                <dd><code>v3.3.2</code></dd>\n              <dt>Master</dt>\n                <dd><code>local[8]</code></dd>\n              <dt>AppName</dt>\n                <dd><code>Databricks Shell</code></dd>\n            </dl>\n        </div>\n        \n            </div>\n        ",
       "datasetInfos": [],
       "metadata": {},
       "removedWidgets": [],
       "textData": null,
       "type": "htmlSandbox"
      }
     },
     "output_type": "display_data"
    }
   ],
   "source": [
    "spark\n"
   ]
  },
  {
   "cell_type": "code",
   "execution_count": 0,
   "metadata": {
    "application/vnd.databricks.v1+cell": {
     "cellMetadata": {
      "byteLimit": 2048000,
      "rowLimit": 10000
     },
     "inputWidgets": {},
     "nuid": "0f5fc9a2-1bbd-4f5e-a6f3-87e7a392d11e",
     "showTitle": false,
     "tableResultSettingsMap": {},
     "title": ""
    }
   },
   "outputs": [],
   "source": [
    "from pyspark.sql import SparkSession\n",
    "\n",
    "# Create an custmom Spark session\n",
    "spark = SparkSession.builder.appName('IPL_Data_Analysis').getOrCreate()"
   ]
  },
  {
   "cell_type": "code",
   "execution_count": 0,
   "metadata": {
    "application/vnd.databricks.v1+cell": {
     "cellMetadata": {
      "byteLimit": 2048000,
      "rowLimit": 10000
     },
     "inputWidgets": {},
     "nuid": "e8c25a56-a0ad-4ee1-b1f9-d8b3dccf9e49",
     "showTitle": false,
     "tableResultSettingsMap": {},
     "title": ""
    }
   },
   "outputs": [
    {
     "output_type": "display_data",
     "data": {
      "text/html": [
       "\n",
       "            <div>\n",
       "                <p><b>SparkSession - hive</b></p>\n",
       "                \n",
       "        <div>\n",
       "            <p><b>SparkContext</b></p>\n",
       "\n",
       "            <p><a href=\"/?o=980462497420430#setting/sparkui/0225-103020-m1q5nqrz/driver-8769663462019580051\">Spark UI</a></p>\n",
       "\n",
       "            <dl>\n",
       "              <dt>Version</dt>\n",
       "                <dd><code>v3.3.2</code></dd>\n",
       "              <dt>Master</dt>\n",
       "                <dd><code>local[8]</code></dd>\n",
       "              <dt>AppName</dt>\n",
       "                <dd><code>Databricks Shell</code></dd>\n",
       "            </dl>\n",
       "        </div>\n",
       "        \n",
       "            </div>\n",
       "        "
      ]
     },
     "metadata": {
      "application/vnd.databricks.v1+output": {
       "addedWidgets": {},
       "arguments": {},
       "data": "\n            <div>\n                <p><b>SparkSession - hive</b></p>\n                \n        <div>\n            <p><b>SparkContext</b></p>\n\n            <p><a href=\"/?o=980462497420430#setting/sparkui/0225-103020-m1q5nqrz/driver-8769663462019580051\">Spark UI</a></p>\n\n            <dl>\n              <dt>Version</dt>\n                <dd><code>v3.3.2</code></dd>\n              <dt>Master</dt>\n                <dd><code>local[8]</code></dd>\n              <dt>AppName</dt>\n                <dd><code>Databricks Shell</code></dd>\n            </dl>\n        </div>\n        \n            </div>\n        ",
       "datasetInfos": [],
       "metadata": {},
       "removedWidgets": [],
       "textData": null,
       "type": "htmlSandbox"
      }
     },
     "output_type": "display_data"
    }
   ],
   "source": [
    "spark"
   ]
  },
  {
   "cell_type": "code",
   "execution_count": 0,
   "metadata": {
    "application/vnd.databricks.v1+cell": {
     "cellMetadata": {
      "byteLimit": 2048000,
      "rowLimit": 10000
     },
     "inputWidgets": {},
     "nuid": "f2081550-ab52-4d5a-b38a-2bbad77abf7b",
     "showTitle": false,
     "tableResultSettingsMap": {},
     "title": ""
    }
   },
   "outputs": [],
   "source": [
    "## Reading data from AWS S3 Bucket\n",
    "ball_by_ball_df = spark.read.format('csv').option(\"header\",\"true\").load(\"s3://ipl-data-analysis-project/Ball_By_Ball.csv\")"
   ]
  },
  {
   "cell_type": "code",
   "execution_count": 0,
   "metadata": {
    "application/vnd.databricks.v1+cell": {
     "cellMetadata": {
      "byteLimit": 2048000,
      "rowLimit": 10000
     },
     "inputWidgets": {},
     "nuid": "5beffa14-088c-4630-ace8-7adcf625c690",
     "showTitle": false,
     "tableResultSettingsMap": {},
     "title": ""
    }
   },
   "outputs": [
    {
     "output_type": "stream",
     "name": "stdout",
     "output_type": "stream",
     "text": [
      "+--------+-------+-------+----------+------------+------------+------------------------+----------+-----------+----------+-----+-------+----+-------+-------+-------------+--------------+------+------+-------+---+------------+-------+-----------------+----------+----------------+-------------+----------+------+-------+-----------+------+----------+--------+----------------+---------+-------------------+-------------+----------------+----------+---------------+---------+------------------+--------------+--------------+------------+-------------+-----------+\n|MatcH_id|Over_id|Ball_id|Innings_No|Team_Batting|Team_Bowling|Striker_Batting_Position|Extra_Type|Runs_Scored|Extra_runs|Wides|Legbyes|Byes|Noballs|Penalty|Bowler_Extras|      Out_type|Caught|Bowled|Run_out|LBW|Retired_hurt|Stumped|caught_and_bowled|hit_wicket|ObstructingFeild|Bowler_Wicket|Match_Date|Season|Striker|Non_Striker|Bowler|Player_Out|Fielders|Striker_match_SK|StrikerSK|NonStriker_match_SK|NONStriker_SK|Fielder_match_SK|Fielder_SK|Bowler_match_SK|BOWLER_SK|PlayerOut_match_SK|BattingTeam_SK|BowlingTeam_SK|Keeper_Catch|Player_out_sk|MatchDateSK|\n+--------+-------+-------+----------+------------+------------+------------------------+----------+-----------+----------+-----+-------+----+-------+-------+-------------+--------------+------+------+-------+---+------------+-------+-----------------+----------+----------------+-------------+----------+------+-------+-----------+------+----------+--------+----------------+---------+-------------------+-------------+----------------+----------+---------------+---------+------------------+--------------+--------------+------------+-------------+-----------+\n|  598028|     15|      6|         1|           5|           2|                       6| No Extras|          4|         0|    0|      0|   0|      0|      0|            0|Not Applicable|     0|     0|      0|  0|           0|      0|                0|         0|               0|            0| 4/20/2013|  2013|    277|        104|    83|      null|    null|           20336|      276|              20333|          103|              -1|        -1|          20343|       82|                -1|             4|             1|           0|            0|   20130420|\n|  598028|     14|      1|         1|           5|           2|                       5| No Extras|          1|         0|    0|      0|   0|      0|      0|            0|Not Applicable|     0|     0|      0|  0|           0|      0|                0|         0|               0|            0| 4/20/2013|  2013|    104|          6|   346|      null|    null|           20333|      103|              20328|            5|              -1|        -1|          20348|      345|                -1|             4|             1|           0|            0|   20130420|\n|  598028|     14|      2|         1|           5|           2|                       3| No Extras|          1|         0|    0|      0|   0|      0|      0|            0|Not Applicable|     0|     0|      0|  0|           0|      0|                0|         0|               0|            0| 4/20/2013|  2013|      6|        104|   346|      null|    null|           20328|        5|              20333|          103|              -1|        -1|          20348|      345|                -1|             4|             1|           0|            0|   20130420|\n|  598028|     14|      3|         1|           5|           2|                       5| No Extras|          1|         0|    0|      0|   0|      0|      0|            0|Not Applicable|     0|     0|      0|  0|           0|      0|                0|         0|               0|            0| 4/20/2013|  2013|    104|          6|   346|      null|    null|           20333|      103|              20328|            5|              -1|        -1|          20348|      345|                -1|             4|             1|           0|            0|   20130420|\n|  598028|     14|      4|         1|           5|           2|                       3| No Extras|          0|         0|    0|      0|   0|      0|      0|            0|Not Applicable|     0|     0|      0|  0|           0|      0|                0|         0|               0|            0| 4/20/2013|  2013|      6|        104|   346|      null|    null|           20328|        5|              20333|          103|              -1|        -1|          20348|      345|                -1|             4|             1|           0|            0|   20130420|\n+--------+-------+-------+----------+------------+------------+------------------------+----------+-----------+----------+-----+-------+----+-------+-------+-------------+--------------+------+------+-------+---+------------+-------+-----------------+----------+----------------+-------------+----------+------+-------+-----------+------+----------+--------+----------------+---------+-------------------+-------------+----------------+----------+---------------+---------+------------------+--------------+--------------+------------+-------------+-----------+\nonly showing top 5 rows\n\n"
     ]
    }
   ],
   "source": [
    "ball_by_ball_df.show(5)"
   ]
  },
  {
   "cell_type": "code",
   "execution_count": 0,
   "metadata": {
    "application/vnd.databricks.v1+cell": {
     "cellMetadata": {
      "byteLimit": 2048000,
      "rowLimit": 10000
     },
     "inputWidgets": {},
     "nuid": "ae2edac7-436c-4764-a897-8116945fd9ad",
     "showTitle": false,
     "tableResultSettingsMap": {},
     "title": ""
    }
   },
   "outputs": [],
   "source": [
    "## Doing above reads all the columns in string format\n",
    "## Defining own schema during loading of data into spark_dataframe\n",
    "from pyspark.sql.types import StructField, StructType, IntegerType, StringType, BooleanType, DateType, DecimalType\n",
    "\n",
    "ball_by_ball_schema = StructType([\n",
    "    StructField(\"match_id\", IntegerType(), True),\n",
    "    StructField(\"over_id\", IntegerType(), True),\n",
    "    StructField(\"ball_id\", IntegerType(), True),\n",
    "    StructField(\"innings_no\", IntegerType(), True),\n",
    "    StructField(\"team_batting\", StringType(), True),\n",
    "    StructField(\"team_bowling\", StringType(), True),\n",
    "    StructField(\"striker_batting_position\", IntegerType(), True),\n",
    "    StructField(\"extra_type\", StringType(), True),\n",
    "    StructField(\"runs_scored\", IntegerType(), True),\n",
    "    StructField(\"extra_runs\", IntegerType(), True),\n",
    "    StructField(\"wides\", IntegerType(), True),\n",
    "    StructField(\"legbyes\", IntegerType(), True),\n",
    "    StructField(\"byes\", IntegerType(), True),\n",
    "    StructField(\"noballs\", IntegerType(), True),\n",
    "    StructField(\"penalty\", IntegerType(), True),\n",
    "    StructField(\"bowler_extras\", IntegerType(), True),\n",
    "    StructField(\"out_type\", StringType(), True),\n",
    "    StructField(\"caught\", BooleanType(), True),\n",
    "    StructField(\"bowled\", BooleanType(), True),\n",
    "    StructField(\"run_out\", BooleanType(), True),\n",
    "    StructField(\"lbw\", BooleanType(), True),\n",
    "    StructField(\"retired_hurt\", BooleanType(), True),\n",
    "    StructField(\"stumped\", BooleanType(), True),\n",
    "    StructField(\"caught_and_bowled\", BooleanType(), True),\n",
    "    StructField(\"hit_wicket\", BooleanType(), True),\n",
    "    StructField(\"obstructingfeild\", BooleanType(), True),\n",
    "    StructField(\"bowler_wicket\", BooleanType(), True),\n",
    "    StructField(\"match_date\", DateType(), True),\n",
    "    StructField(\"season\", IntegerType(), True),\n",
    "    StructField(\"striker\", IntegerType(), True),\n",
    "    StructField(\"non_striker\", IntegerType(), True),\n",
    "    StructField(\"bowler\", IntegerType(), True),\n",
    "    StructField(\"player_out\", IntegerType(), True),\n",
    "    StructField(\"fielders\", IntegerType(), True),\n",
    "    StructField(\"striker_match_sk\", IntegerType(), True),\n",
    "    StructField(\"strikersk\", IntegerType(), True),\n",
    "    StructField(\"nonstriker_match_sk\", IntegerType(), True),\n",
    "    StructField(\"nonstriker_sk\", IntegerType(), True),\n",
    "    StructField(\"fielder_match_sk\", IntegerType(), True),\n",
    "    StructField(\"fielder_sk\", IntegerType(), True),\n",
    "    StructField(\"bowler_match_sk\", IntegerType(), True),\n",
    "    StructField(\"bowler_sk\", IntegerType(), True),\n",
    "    StructField(\"playerout_match_sk\", IntegerType(), True),\n",
    "    StructField(\"battingteam_sk\", IntegerType(), True),\n",
    "    StructField(\"bowlingteam_sk\", IntegerType(), True),\n",
    "    StructField(\"keeper_catch\", BooleanType(), True),\n",
    "    StructField(\"player_out_sk\", IntegerType(), True),\n",
    "    StructField(\"matchdatesk\", DateType(), True)\n",
    "])\n",
    "\n",
    "# Using own schema to define the dataframe\n",
    "ball_by_ball_df = spark.read.schema(ball_by_ball_schema).format('csv').option('header','true').load('s3://ipl-data-analysis-project/Ball_By_Ball.csv')"
   ]
  },
  {
   "cell_type": "code",
   "execution_count": 0,
   "metadata": {
    "application/vnd.databricks.v1+cell": {
     "cellMetadata": {
      "byteLimit": 2048000,
      "rowLimit": 10000
     },
     "inputWidgets": {},
     "nuid": "cc808b16-f96c-434b-8448-5144dfb2c0f4",
     "showTitle": false,
     "tableResultSettingsMap": {},
     "title": ""
    }
   },
   "outputs": [
    {
     "output_type": "stream",
     "name": "stdout",
     "output_type": "stream",
     "text": [
      "+--------+-------+-------+----------+------------+------------+------------------------+----------+-----------+----------+-----+-------+----+-------+-------+-------------+--------------+------+------+-------+----+------------+-------+-----------------+----------+----------------+-------------+----------+------+-------+-----------+------+----------+--------+----------------+---------+-------------------+-------------+----------------+----------+---------------+---------+------------------+--------------+--------------+------------+-------------+-----------+\n|match_id|over_id|ball_id|innings_no|team_batting|team_bowling|striker_batting_position|extra_type|runs_scored|extra_runs|wides|legbyes|byes|noballs|penalty|bowler_extras|      out_type|caught|bowled|run_out| lbw|retired_hurt|stumped|caught_and_bowled|hit_wicket|obstructingfeild|bowler_wicket|match_date|season|striker|non_striker|bowler|player_out|fielders|striker_match_sk|strikersk|nonstriker_match_sk|nonstriker_sk|fielder_match_sk|fielder_sk|bowler_match_sk|bowler_sk|playerout_match_sk|battingteam_sk|bowlingteam_sk|keeper_catch|player_out_sk|matchdatesk|\n+--------+-------+-------+----------+------------+------------+------------------------+----------+-----------+----------+-----+-------+----+-------+-------+-------------+--------------+------+------+-------+----+------------+-------+-----------------+----------+----------------+-------------+----------+------+-------+-----------+------+----------+--------+----------------+---------+-------------------+-------------+----------------+----------+---------------+---------+------------------+--------------+--------------+------------+-------------+-----------+\n|  598028|     15|      6|         1|           5|           2|                       6| No Extras|          4|         0|    0|      0|   0|      0|      0|            0|Not Applicable|  null|  null|   null|null|        null|   null|             null|      null|            null|         null|      null|  2013|    277|        104|    83|      null|    null|           20336|      276|              20333|          103|              -1|        -1|          20343|       82|                -1|             4|             1|        null|            0|       null|\n|  598028|     14|      1|         1|           5|           2|                       5| No Extras|          1|         0|    0|      0|   0|      0|      0|            0|Not Applicable|  null|  null|   null|null|        null|   null|             null|      null|            null|         null|      null|  2013|    104|          6|   346|      null|    null|           20333|      103|              20328|            5|              -1|        -1|          20348|      345|                -1|             4|             1|        null|            0|       null|\n|  598028|     14|      2|         1|           5|           2|                       3| No Extras|          1|         0|    0|      0|   0|      0|      0|            0|Not Applicable|  null|  null|   null|null|        null|   null|             null|      null|            null|         null|      null|  2013|      6|        104|   346|      null|    null|           20328|        5|              20333|          103|              -1|        -1|          20348|      345|                -1|             4|             1|        null|            0|       null|\n|  598028|     14|      3|         1|           5|           2|                       5| No Extras|          1|         0|    0|      0|   0|      0|      0|            0|Not Applicable|  null|  null|   null|null|        null|   null|             null|      null|            null|         null|      null|  2013|    104|          6|   346|      null|    null|           20333|      103|              20328|            5|              -1|        -1|          20348|      345|                -1|             4|             1|        null|            0|       null|\n|  598028|     14|      4|         1|           5|           2|                       3| No Extras|          0|         0|    0|      0|   0|      0|      0|            0|Not Applicable|  null|  null|   null|null|        null|   null|             null|      null|            null|         null|      null|  2013|      6|        104|   346|      null|    null|           20328|        5|              20333|          103|              -1|        -1|          20348|      345|                -1|             4|             1|        null|            0|       null|\n+--------+-------+-------+----------+------------+------------+------------------------+----------+-----------+----------+-----+-------+----+-------+-------+-------------+--------------+------+------+-------+----+------------+-------+-----------------+----------+----------------+-------------+----------+------+-------+-----------+------+----------+--------+----------------+---------+-------------------+-------------+----------------+----------+---------------+---------+------------------+--------------+--------------+------------+-------------+-----------+\nonly showing top 5 rows\n\n"
     ]
    }
   ],
   "source": [
    "ball_by_ball_df.show(5)"
   ]
  },
  {
   "cell_type": "code",
   "execution_count": 0,
   "metadata": {
    "application/vnd.databricks.v1+cell": {
     "cellMetadata": {
      "byteLimit": 2048000,
      "rowLimit": 10000
     },
     "inputWidgets": {},
     "nuid": "f845ea49-3fdd-46cd-9824-327c76276563",
     "showTitle": false,
     "tableResultSettingsMap": {},
     "title": ""
    }
   },
   "outputs": [],
   "source": [
    "match_schema = StructType([\n",
    "    StructField(\"match_sk\", IntegerType(), True),\n",
    "    StructField(\"match_id\", IntegerType(), True),\n",
    "    StructField(\"team1\", StringType(), True),\n",
    "    StructField(\"team2\", StringType(), True),\n",
    "    StructField(\"match_date\", DateType(), True),\n",
    "    StructField(\"season_year\", IntegerType(), True),\n",
    "    StructField(\"venue_name\", StringType(), True),\n",
    "    StructField(\"city_name\", StringType(), True),\n",
    "    StructField(\"country_name\", StringType(), True),\n",
    "    StructField(\"toss_winner\", StringType(), True),\n",
    "    StructField(\"match_winner\", StringType(), True),\n",
    "    StructField(\"toss_name\", StringType(), True),\n",
    "    StructField(\"win_type\", StringType(), True),\n",
    "    StructField(\"outcome_type\", StringType(), True),\n",
    "    StructField(\"manofmach\", StringType(), True),\n",
    "    StructField(\"win_margin\", IntegerType(), True),\n",
    "    StructField(\"country_id\", IntegerType(), True)\n",
    "])\n",
    "match_df = spark.read.schema(match_schema).format(\"csv\").option(\"header\",\"true\").load(\"s3://ipl-data-analysis-project/Match.csv\")\n"
   ]
  },
  {
   "cell_type": "code",
   "execution_count": 0,
   "metadata": {
    "application/vnd.databricks.v1+cell": {
     "cellMetadata": {
      "byteLimit": 2048000,
      "rowLimit": 10000
     },
     "inputWidgets": {},
     "nuid": "2ce586bb-6688-435e-8c2f-0f5911a0109a",
     "showTitle": false,
     "tableResultSettingsMap": {},
     "title": ""
    }
   },
   "outputs": [],
   "source": [
    "player_schema = StructType([\n",
    "    StructField(\"player_sk\", IntegerType(), True),\n",
    "    StructField(\"player_id\", IntegerType(), True),\n",
    "    StructField(\"player_name\", StringType(), True),\n",
    "    StructField(\"dob\", DateType(), True),\n",
    "    StructField(\"batting_hand\", StringType(), True),\n",
    "    StructField(\"bowling_skill\", StringType(), True),\n",
    "    StructField(\"country_name\", StringType(), True)\n",
    "])\n",
    "\n",
    "player_df = spark.read.schema(player_schema).format(\"csv\").option(\"header\",\"true\").load(\"s3://ipl-data-analysis-project/Player.csv\")\n"
   ]
  },
  {
   "cell_type": "code",
   "execution_count": 0,
   "metadata": {
    "application/vnd.databricks.v1+cell": {
     "cellMetadata": {
      "byteLimit": 2048000,
      "rowLimit": 10000
     },
     "inputWidgets": {},
     "nuid": "cd228aaf-91e4-4133-9c9b-6d2fbaefc75d",
     "showTitle": false,
     "tableResultSettingsMap": {},
     "title": ""
    }
   },
   "outputs": [],
   "source": [
    "player_match_schema = StructType([\n",
    "    StructField(\"player_match_sk\", IntegerType(), True),\n",
    "    StructField(\"playermatch_key\", DecimalType(), True),\n",
    "    StructField(\"match_id\", IntegerType(), True),\n",
    "    StructField(\"player_id\", IntegerType(), True),\n",
    "    StructField(\"player_name\", StringType(), True),\n",
    "    StructField(\"dob\", DateType(), True),\n",
    "    StructField(\"batting_hand\", StringType(), True),\n",
    "    StructField(\"bowling_skill\", StringType(), True),\n",
    "    StructField(\"country_name\", StringType(), True),\n",
    "    StructField(\"role_desc\", StringType(), True),\n",
    "    StructField(\"player_team\", StringType(), True),\n",
    "    StructField(\"opposit_team\", StringType(), True),\n",
    "    StructField(\"season_year\", IntegerType(), True),\n",
    "    StructField(\"is_manofthematch\", BooleanType(), True),\n",
    "    StructField(\"age_as_on_match\", IntegerType(), True),\n",
    "    StructField(\"isplayers_team_won\", BooleanType(), True),\n",
    "    StructField(\"batting_status\", StringType(), True),\n",
    "    StructField(\"bowling_status\", StringType(), True),\n",
    "    StructField(\"player_captain\", StringType(), True),\n",
    "    StructField(\"opposit_captain\", StringType(), True),\n",
    "    StructField(\"player_keeper\", StringType(), True),\n",
    "    StructField(\"opposit_keeper\", StringType(), True)\n",
    "])\n",
    "\n",
    "player_match_df = spark.read.schema(player_match_schema).format(\"csv\").option(\"header\",\"true\").load(\"s3://ipl-data-analysis-project/Player_match.csv\")\n",
    "\n",
    "     "
   ]
  },
  {
   "cell_type": "code",
   "execution_count": 0,
   "metadata": {
    "application/vnd.databricks.v1+cell": {
     "cellMetadata": {
      "byteLimit": 2048000,
      "rowLimit": 10000
     },
     "inputWidgets": {},
     "nuid": "e75d2e44-5554-4938-ba28-24ba7481798d",
     "showTitle": false,
     "tableResultSettingsMap": {},
     "title": ""
    }
   },
   "outputs": [],
   "source": [
    "team_schema = StructType([\n",
    "    StructField(\"team_sk\", IntegerType(), True),\n",
    "    StructField(\"team_id\", IntegerType(), True),\n",
    "    StructField(\"team_name\", StringType(), True)\n",
    "])\n",
    "\n",
    "team_df = spark.read.schema(team_schema).format(\"csv\").option(\"header\",\"true\").load(\"s3://ipl-data-analysis-project/Team.csv\")\n"
   ]
  },
  {
   "cell_type": "code",
   "execution_count": 0,
   "metadata": {
    "application/vnd.databricks.v1+cell": {
     "cellMetadata": {
      "byteLimit": 2048000,
      "rowLimit": 10000
     },
     "inputWidgets": {},
     "nuid": "a539d68d-fa64-489d-8d40-cd0d5787e6dd",
     "showTitle": false,
     "tableResultSettingsMap": {},
     "title": ""
    }
   },
   "outputs": [],
   "source": [
    "from pyspark.sql.functions import col, when, sum, avg, row_number\n",
    "# Filter extra deliveries from the dataframe. i.e This updated dataframe only consists of valid deliveries.\n",
    "\n",
    "ball_by_ball_df = ball_by_ball_df.filter((col(\"wides\") == 0) & (col(\"noballs\") == 0))\n",
    "## This won't apply transformation. In spark, generally all the transformations are stacked one after another at first, and after we apply some action, then only those transformation will be applied. Here, no any action is applied, only transformation logic is written. So, no any transformation occures."
   ]
  },
  {
   "cell_type": "code",
   "execution_count": 0,
   "metadata": {
    "application/vnd.databricks.v1+cell": {
     "cellMetadata": {
      "byteLimit": 2048000,
      "rowLimit": 10000
     },
     "inputWidgets": {},
     "nuid": "6ba001f1-c652-4996-a797-db321ae816ea",
     "showTitle": false,
     "tableResultSettingsMap": {},
     "title": ""
    }
   },
   "outputs": [],
   "source": [
    "# Apply aggregation function: Calculate the total runs scored in each match and inning\n",
    "total_and_avg_run = ball_by_ball_df.groupBy(\"match_id\", \"innings_no\").agg(\n",
    "    sum(\"runs_scored\").alias(\"total_runs\"),\n",
    "    avg(\"runs_scored\").alias(\"average runs\")\n",
    ")"
   ]
  },
  {
   "cell_type": "code",
   "execution_count": 0,
   "metadata": {
    "application/vnd.databricks.v1+cell": {
     "cellMetadata": {
      "byteLimit": 2048000,
      "rowLimit": 10000
     },
     "inputWidgets": {},
     "nuid": "949d8043-ee59-4562-a6b7-be7c2b6c6cb9",
     "showTitle": false,
     "tableResultSettingsMap": {},
     "title": ""
    }
   },
   "outputs": [
    {
     "output_type": "stream",
     "name": "stdout",
     "output_type": "stream",
     "text": [
      "+--------+----------+----------+------------------+\n|match_id|innings_no|total_runs|      average runs|\n+--------+----------+----------+------------------+\n|  980940|         1|       138|              1.15|\n|  419132|         1|       162|              1.35|\n| 1082632|         2|       202|1.9238095238095239|\n|  335993|         2|       131|1.6794871794871795|\n| 1082617|         1|       123|1.0512820512820513|\n+--------+----------+----------+------------------+\nonly showing top 5 rows\n\n"
     ]
    }
   ],
   "source": [
    "total_and_avg_run.show(5)"
   ]
  },
  {
   "cell_type": "code",
   "execution_count": 0,
   "metadata": {
    "application/vnd.databricks.v1+cell": {
     "cellMetadata": {
      "byteLimit": 2048000,
      "rowLimit": 10000
     },
     "inputWidgets": {},
     "nuid": "89f9cad1-4761-4fc2-a1c9-6487d5c916b4",
     "showTitle": false,
     "tableResultSettingsMap": {},
     "title": ""
    }
   },
   "outputs": [],
   "source": [
    "# Using window function to calculate running total of runs in each match for each over\n",
    "\n",
    "from pyspark.sql.window import Window\n",
    "windowSpec = Window.partitionBy(\"match_id\",\"innings_no\").orderBy('over_id')\n",
    "\n",
    "ball_by_ball_df = ball_by_ball_df.withColumn(\n",
    "    \"running_total_runs\",\n",
    "    sum(\"runs_scored\").over(windowSpec)\n",
    ")\n",
    "\n"
   ]
  },
  {
   "cell_type": "code",
   "execution_count": 0,
   "metadata": {
    "application/vnd.databricks.v1+cell": {
     "cellMetadata": {
      "byteLimit": 2048000,
      "rowLimit": 10000
     },
     "inputWidgets": {},
     "nuid": "646aa237-fe4e-412a-bf34-77124b2bd930",
     "showTitle": false,
     "tableResultSettingsMap": {},
     "title": ""
    }
   },
   "outputs": [],
   "source": [
    "# Flag a ball which have wicket or more than 6 runs is scored. Adding new flag column for this\n",
    "# Conditional Column\n",
    "ball_by_ball_df = ball_by_ball_df.withColumn(\n",
    "    \"high impact\", \n",
    "    when((col(\"runs_scored\") + col(\"extra_runs\") > 6) | (col('bowler_wicket') == True), True).otherwise(False)\n",
    ")"
   ]
  },
  {
   "cell_type": "code",
   "execution_count": 0,
   "metadata": {
    "application/vnd.databricks.v1+cell": {
     "cellMetadata": {
      "byteLimit": 2048000,
      "rowLimit": 10000
     },
     "inputWidgets": {},
     "nuid": "fbc297fc-6ff7-4c8e-b214-06199bf55cac",
     "showTitle": false,
     "tableResultSettingsMap": {},
     "title": ""
    }
   },
   "outputs": [
    {
     "output_type": "stream",
     "name": "stdout",
     "output_type": "stream",
     "text": [
      "+--------+-------+-------+----------+------------+------------+------------------------+----------+-----------+----------+-----+-------+----+-------+-------+-------------+--------------+------+------+-------+----+------------+-------+-----------------+----------+----------------+-------------+----------+------+-------+-----------+------+----------+--------+----------------+---------+-------------------+-------------+----------------+----------+---------------+---------+------------------+--------------+--------------+------------+-------------+-----------+------------------+-----------+\n|match_id|over_id|ball_id|innings_no|team_batting|team_bowling|striker_batting_position|extra_type|runs_scored|extra_runs|wides|legbyes|byes|noballs|penalty|bowler_extras|      out_type|caught|bowled|run_out| lbw|retired_hurt|stumped|caught_and_bowled|hit_wicket|obstructingfeild|bowler_wicket|match_date|season|striker|non_striker|bowler|player_out|fielders|striker_match_sk|strikersk|nonstriker_match_sk|nonstriker_sk|fielder_match_sk|fielder_sk|bowler_match_sk|bowler_sk|playerout_match_sk|battingteam_sk|bowlingteam_sk|keeper_catch|player_out_sk|matchdatesk|running_total_runs|high impact|\n+--------+-------+-------+----------+------------+------------+------------------------+----------+-----------+----------+-----+-------+----+-------+-------+-------------+--------------+------+------+-------+----+------------+-------+-----------------+----------+----------------+-------------+----------+------+-------+-----------+------+----------+--------+----------------+---------+-------------------+-------------+----------------+----------+---------------+---------+------------------+--------------+--------------+------------+-------------+-----------+------------------+-----------+\n|  335987|      1|      1|         1|           1|           2|                       1|   legbyes|          0|         1|    0|      1|   0|      0|      0|            0|Not Applicable|  null|  null|   null|null|        null|   null|             null|      null|            null|         null|      null|  2008|      1|          2|    14|      null|    null|           12705|        0|              12706|            1|              -1|        -1|          12702|       13|                -1|             0|             1|        null|            0|       null|                 0|      false|\n|  335987|      1|      2|         1|           1|           2|                       2| No Extras|          0|         0|    0|      0|   0|      0|      0|            0|Not Applicable|  null|  null|   null|null|        null|   null|             null|      null|            null|         null|      null|  2008|      2|          1|    14|      null|    null|           12706|        1|              12705|            0|              -1|        -1|          12702|       13|                -1|             0|             1|        null|            0|       null|                 0|      false|\n|  335987|      1|      4|         1|           1|           2|                       2| No Extras|          0|         0|    0|      0|   0|      0|      0|            0|Not Applicable|  null|  null|   null|null|        null|   null|             null|      null|            null|         null|      null|  2008|      2|          1|    14|      null|    null|           12706|        1|              12705|            0|              -1|        -1|          12702|       13|                -1|             0|             1|        null|            0|       null|                 0|      false|\n|  335987|      1|      5|         1|           1|           2|                       2| No Extras|          0|         0|    0|      0|   0|      0|      0|            0|Not Applicable|  null|  null|   null|null|        null|   null|             null|      null|            null|         null|      null|  2008|      2|          1|    14|      null|    null|           12706|        1|              12705|            0|              -1|        -1|          12702|       13|                -1|             0|             1|        null|            0|       null|                 0|      false|\n|  335987|      1|      6|         1|           1|           2|                       2| No Extras|          0|         0|    0|      0|   0|      0|      0|            0|Not Applicable|  null|  null|   null|null|        null|   null|             null|      null|            null|         null|      null|  2008|      2|          1|    14|      null|    null|           12706|        1|              12705|            0|              -1|        -1|          12702|       13|                -1|             0|             1|        null|            0|       null|                 0|      false|\n+--------+-------+-------+----------+------------+------------+------------------------+----------+-----------+----------+-----+-------+----+-------+-------+-------------+--------------+------+------+-------+----+------------+-------+-----------------+----------+----------------+-------------+----------+------+-------+-----------+------+----------+--------+----------------+---------+-------------------+-------------+----------------+----------+---------------+---------+------------------+--------------+--------------+------------+-------------+-----------+------------------+-----------+\nonly showing top 5 rows\n\n"
     ]
    }
   ],
   "source": [
    "ball_by_ball_df.show(5)"
   ]
  },
  {
   "cell_type": "code",
   "execution_count": 0,
   "metadata": {
    "application/vnd.databricks.v1+cell": {
     "cellMetadata": {
      "byteLimit": 2048000,
      "rowLimit": 10000
     },
     "inputWidgets": {},
     "nuid": "b5aadd11-11f5-40d2-9d2d-cc9abfc17e00",
     "showTitle": false,
     "tableResultSettingsMap": {},
     "title": ""
    }
   },
   "outputs": [
    {
     "output_type": "stream",
     "name": "stdout",
     "output_type": "stream",
     "text": [
      "+--------+--------+--------------------+--------------------+----------+-----------+--------------------+----------+------------+--------------------+--------------------+---------+--------+------------+-----------+----------+----------+----+-----+----+-----------------+\n|match_sk|match_id|               team1|               team2|match_date|season_year|          venue_name| city_name|country_name|         toss_winner|        match_winner|toss_name|win_type|outcome_type|  manofmach|win_margin|country_id|Year|Month| Day|toss_match_winner|\n+--------+--------+--------------------+--------------------+----------+-----------+--------------------+----------+------------+--------------------+--------------------+---------+--------+------------+-----------+----------+----------+----+-----+----+-----------------+\n|       0|  335987|Royal Challengers...|Kolkata Knight Ri...|      null|       2008|M Chinnaswamy Sta...| Bangalore|       India|Royal Challengers...|Kolkata Knight Ri...|    field|    runs|      Result|BB McCullum|       140|         1|null| null|null|               No|\n|       1|  335988|     Kings XI Punjab| Chennai Super Kings|      null|       2008|Punjab Cricket As...|Chandigarh|       India| Chennai Super Kings| Chennai Super Kings|      bat|    runs|      Result| MEK Hussey|        33|         1|null| null|null|              Yes|\n|       2|  335989|    Delhi Daredevils|    Rajasthan Royals|      null|       2008|    Feroz Shah Kotla|     Delhi|       India|    Rajasthan Royals|    Delhi Daredevils|      bat| wickets|      Result|MF Maharoof|         9|         1|null| null|null|               No|\n|       3|  335990|      Mumbai Indians|Royal Challengers...|      null|       2008|    Wankhede Stadium|    Mumbai|       India|      Mumbai Indians|Royal Challengers...|      bat| wickets|      Result| MV Boucher|         5|         1|null| null|null|               No|\n|       4|  335991|Kolkata Knight Ri...|     Deccan Chargers|      null|       2008|        Eden Gardens|   Kolkata|       India|     Deccan Chargers|Kolkata Knight Ri...|      bat| wickets|      Result|  DJ Hussey|         5|         1|null| null|null|               No|\n+--------+--------+--------------------+--------------------+----------+-----------+--------------------+----------+------------+--------------------+--------------------+---------+--------+------------+-----------+----------+----------+----+-----+----+-----------------+\nonly showing top 5 rows\n\n"
     ]
    }
   ],
   "source": [
    "from pyspark.sql.functions import year, month, dayofmonth\n",
    "match_df = match_df.withColumn(\"Year\",year(\"match_date\"))\n",
    "match_df = match_df.withColumn(\"Month\",month(\"match_date\"))\n",
    "match_df = match_df.withColumn(\"Day\", dayofmonth(\"match_date\"))\n",
    "\n",
    "## Creating flag field that highlightes the team which have won the toss and match both\n",
    "match_df = match_df.withColumn(\n",
    "    \"toss_match_winner\",\n",
    "    when(col(\"toss_winner\") == col(\"match_winner\"),\"Yes\").otherwise(\"No\")\n",
    ")\n",
    "\n",
    "match_df.show(5)"
   ]
  },
  {
   "cell_type": "code",
   "execution_count": 0,
   "metadata": {
    "application/vnd.databricks.v1+cell": {
     "cellMetadata": {
      "byteLimit": 2048000,
      "rowLimit": 10000
     },
     "inputWidgets": {},
     "nuid": "c917ddb1-01b1-4d1a-8a6a-32d04b95094a",
     "showTitle": false,
     "tableResultSettingsMap": {},
     "title": ""
    }
   },
   "outputs": [],
   "source": [
    "from pyspark.sql.functions import lower, regexp_replace\n",
    "\n",
    "# Clean player name\n",
    "player_df = player_df.withColumn(\"player_name\",lower(regexp_replace(\"player_name\",\"[^a-zA-Z0-9]\",\"\")))\n",
    "#Handle missing entries\n",
    "player_df = player_df.na.fill({\"batting_hand\": \"unknown\", \"bowling_skill\": \"unknown\"})\n",
    "\n",
    "# Categorizing players based on batting hand\n",
    "player_df = player_df.withColumn(\n",
    "    \"batting_style\",\n",
    "    when(col(\"batting_hand\").contains(\"left\"), \"Left-Handed\").otherwise(\"Right-Handed\")\n",
    ")\n"
   ]
  },
  {
   "cell_type": "code",
   "execution_count": 0,
   "metadata": {
    "application/vnd.databricks.v1+cell": {
     "cellMetadata": {
      "byteLimit": 2048000,
      "rowLimit": 10000
     },
     "inputWidgets": {},
     "nuid": "3b8a0970-a9e0-4b64-b02e-2c9088157f02",
     "showTitle": false,
     "tableResultSettingsMap": {},
     "title": ""
    }
   },
   "outputs": [
    {
     "output_type": "stream",
     "name": "stdout",
     "output_type": "stream",
     "text": [
      "+---------+---------+--------------+----+--------------+--------------------+------------+-------------+\n|player_sk|player_id|   player_name| dob|  batting_hand|       bowling_skill|country_name|batting_style|\n+---------+---------+--------------+----+--------------+--------------------+------------+-------------+\n|        0|        1|     scganguly|null| Left-hand bat|    Right-arm medium|       India| Right-Handed|\n|        1|        2|    bbmccullum|null|Right-hand bat|    Right-arm medium| New Zealand| Right-Handed|\n|        2|        3|     rtponting|null|Right-hand bat|    Right-arm medium|   Australia| Right-Handed|\n|        3|        4|      djhussey|null|Right-hand bat|  Right-arm offbreak|   Australia| Right-Handed|\n|        4|        5|mohammadhafeez|null|Right-hand bat|  Right-arm offbreak|    Pakistan| Right-Handed|\n|        5|        6|       rdravid|null|Right-hand bat|  Right-arm offbreak|       India| Right-Handed|\n|        6|        7|       wjaffer|null|Right-hand bat|  Right-arm offbreak|       India| Right-Handed|\n|        7|        8|        vkohli|null|Right-hand bat|    Right-arm medium|       India| Right-Handed|\n|        8|        9|      jhkallis|null|Right-hand bat|Right-arm fast-me...|South Africa| Right-Handed|\n|        9|       10|       clwhite|null|Right-hand bat|     Legbreak googly|   Australia| Right-Handed|\n|       10|       11|     mvboucher|null|Right-hand bat|    Right-arm medium|South Africa| Right-Handed|\n|       11|       12|        bakhil|null|Right-hand bat|Right-arm medium-...|       India| Right-Handed|\n|       12|       13|      aanoffke|null|Right-hand bat|Right-arm fast-me...|   Australia| Right-Handed|\n|       13|       14|        pkumar|null|Right-hand bat|    Right-arm medium|       India| Right-Handed|\n|       14|       15|         zkhan|null|Right-hand bat|Left-arm fast-medium|       India| Right-Handed|\n|       15|       16|       sbjoshi|null| Left-hand bat|Slow left-arm ort...|       India| Right-Handed|\n|       16|       17|       papatel|null| Left-hand bat|                 N/A|       India| Right-Handed|\n|       17|       18|      mlhayden|null| Left-hand bat|    Right-arm medium|   Australia| Right-Handed|\n|       18|       19|     mekhussey|null| Left-hand bat|    Right-arm medium|   Australia| Right-Handed|\n|       19|       20|       msdhoni|null|Right-hand bat|    Right-arm medium|       India| Right-Handed|\n+---------+---------+--------------+----+--------------+--------------------+------------+-------------+\nonly showing top 20 rows\n\n"
     ]
    }
   ],
   "source": [
    "player_df.show()"
   ]
  },
  {
   "cell_type": "code",
   "execution_count": 0,
   "metadata": {
    "application/vnd.databricks.v1+cell": {
     "cellMetadata": {
      "byteLimit": 2048000,
      "rowLimit": 10000
     },
     "inputWidgets": {},
     "nuid": "32025aef-9dff-4333-bc8a-80d1c206e6dd",
     "showTitle": false,
     "tableResultSettingsMap": {},
     "title": ""
    }
   },
   "outputs": [
    {
     "output_type": "stream",
     "name": "stdout",
     "output_type": "stream",
     "text": [
      "+---------------+---------------+--------+---------+-----------+----+--------------+--------------------+------------+---------+--------------------+--------------------+-----------+----------------+---------------+------------------+--------------+--------------+--------------+---------------+-------------+--------------+--------+\n|player_match_sk|playermatch_key|match_id|player_id|player_name| dob|  batting_hand|       bowling_skill|country_name|role_desc|         player_team|        opposit_team|season_year|is_manofthematch|age_as_on_match|isplayers_team_won|batting_status|bowling_status|player_captain|opposit_captain|player_keeper|opposit_keeper|under_20|\n+---------------+---------------+--------+---------+-----------+----+--------------+--------------------+------------+---------+--------------------+--------------------+-----------+----------------+---------------+------------------+--------------+--------------+--------------+---------------+-------------+--------------+--------+\n|             -1|             -1|      -1|       -1|        N/A|null|          null|                null|        null|     null|                null|                null|       null|            null|           null|              null|          null|          null|          null|           null|         null|          null|       0|\n|          12694|           null|  335987|        6|   R Dravid|null|Right-hand bat|  Right-arm offbreak|       India|  Captain|Royal Challengers...|Kolkata Knight Ri...|       2008|            null|             35|              null|          null|          null|      R Dravid|     SC Ganguly|   MV Boucher|       WP Saha|       0|\n|          12695|           null|  335987|        7|   W Jaffer|null|Right-hand bat|  Right-arm offbreak|       India|   Player|Royal Challengers...|Kolkata Knight Ri...|       2008|            null|             30|              null|          null|          null|      R Dravid|     SC Ganguly|   MV Boucher|       WP Saha|       0|\n|          12696|           null|  335987|        8|    V Kohli|null|Right-hand bat|    Right-arm medium|       India|   Player|Royal Challengers...|Kolkata Knight Ri...|       2008|            null|             20|              null|          null|          null|      R Dravid|     SC Ganguly|   MV Boucher|       WP Saha|       0|\n|          12697|           null|  335987|        9|  JH Kallis|null|Right-hand bat|Right-arm fast-me...|South Africa|   Player|Royal Challengers...|Kolkata Knight Ri...|       2008|            null|             33|              null|          null|          null|      R Dravid|     SC Ganguly|   MV Boucher|       WP Saha|       0|\n+---------------+---------------+--------+---------+-----------+----+--------------+--------------------+------------+---------+--------------------+--------------------+-----------+----------------+---------------+------------------+--------------+--------------+--------------+---------------+-------------+--------------+--------+\nonly showing top 5 rows\n\n"
     ]
    }
   ],
   "source": [
    "from pyspark.sql.functions import current_date, expr\n",
    "\n",
    "# Add a column that highlights player under age 20.\n",
    "player_match_df = player_match_df.withColumn(\n",
    "    \"under_20\",\n",
    "    when(col(\"age_as_on_match\") < 20, 1).otherwise(0)\n",
    ")\n",
    "\n",
    "player_match_df.show(5)"
   ]
  },
  {
   "cell_type": "code",
   "execution_count": 0,
   "metadata": {
    "application/vnd.databricks.v1+cell": {
     "cellMetadata": {
      "byteLimit": 2048000,
      "rowLimit": 10000
     },
     "inputWidgets": {},
     "nuid": "a1656a9b-0d42-4cbb-8124-40c1feb75e80",
     "showTitle": false,
     "tableResultSettingsMap": {},
     "title": ""
    }
   },
   "outputs": [],
   "source": [
    "## Converting all these sparkdataframe to sql tables\n",
    "ball_by_ball_df.createOrReplaceTempView(\"ball_by_ball\")\n",
    "match_df.createOrReplaceTempView(\"match_\")\n",
    "player_df.createOrReplaceTempView(\"player\")\n",
    "player_match_df.createOrReplaceTempView(\"player_match\")\n",
    "team_df.createOrReplaceTempView(\"team\")"
   ]
  },
  {
   "cell_type": "code",
   "execution_count": 0,
   "metadata": {
    "application/vnd.databricks.v1+cell": {
     "cellMetadata": {
      "byteLimit": 2048000,
      "rowLimit": 10000
     },
     "inputWidgets": {},
     "nuid": "408b5598-b6af-47d8-a119-1d0557c3160c",
     "showTitle": false,
     "tableResultSettingsMap": {},
     "title": ""
    }
   },
   "outputs": [
    {
     "output_type": "stream",
     "name": "stdout",
     "output_type": "stream",
     "text": [
      "Out[23]: ['match_id',\n 'over_id',\n 'ball_id',\n 'innings_no',\n 'team_batting',\n 'team_bowling',\n 'striker_batting_position',\n 'extra_type',\n 'runs_scored',\n 'extra_runs',\n 'wides',\n 'legbyes',\n 'byes',\n 'noballs',\n 'penalty',\n 'bowler_extras',\n 'out_type',\n 'caught',\n 'bowled',\n 'run_out',\n 'lbw',\n 'retired_hurt',\n 'stumped',\n 'caught_and_bowled',\n 'hit_wicket',\n 'obstructingfeild',\n 'bowler_wicket',\n 'match_date',\n 'season',\n 'striker',\n 'non_striker',\n 'bowler',\n 'player_out',\n 'fielders',\n 'striker_match_sk',\n 'strikersk',\n 'nonstriker_match_sk',\n 'nonstriker_sk',\n 'fielder_match_sk',\n 'fielder_sk',\n 'bowler_match_sk',\n 'bowler_sk',\n 'playerout_match_sk',\n 'battingteam_sk',\n 'bowlingteam_sk',\n 'keeper_catch',\n 'player_out_sk',\n 'matchdatesk',\n 'running_total_runs',\n 'high impact']"
     ]
    }
   ],
   "source": [
    "ball_by_ball_df.columns"
   ]
  },
  {
   "cell_type": "code",
   "execution_count": 0,
   "metadata": {
    "application/vnd.databricks.v1+cell": {
     "cellMetadata": {
      "byteLimit": 2048000,
      "rowLimit": 10000
     },
     "inputWidgets": {},
     "nuid": "2501c09c-72e0-4837-afba-ca7c7440fc45",
     "showTitle": false,
     "tableResultSettingsMap": {},
     "title": ""
    }
   },
   "outputs": [
    {
     "output_type": "stream",
     "name": "stdout",
     "output_type": "stream",
     "text": [
      "Out[24]: ['match_sk',\n 'match_id',\n 'team1',\n 'team2',\n 'match_date',\n 'season_year',\n 'venue_name',\n 'city_name',\n 'country_name',\n 'toss_winner',\n 'match_winner',\n 'toss_name',\n 'win_type',\n 'outcome_type',\n 'manofmach',\n 'win_margin',\n 'country_id',\n 'Year',\n 'Month',\n 'Day',\n 'toss_match_winner']"
     ]
    }
   ],
   "source": [
    "match_df.columns"
   ]
  },
  {
   "cell_type": "code",
   "execution_count": 0,
   "metadata": {
    "application/vnd.databricks.v1+cell": {
     "cellMetadata": {
      "byteLimit": 2048000,
      "rowLimit": 10000
     },
     "inputWidgets": {},
     "nuid": "59297c40-b688-4c94-82b1-eb76705ac782",
     "showTitle": false,
     "tableResultSettingsMap": {},
     "title": ""
    }
   },
   "outputs": [],
   "source": [
    "orange_cap_winner = spark.sql(\"\"\"\n",
    "    SELECT season_year, player_name, runs_scored FROM\n",
    "        (SELECT m.season_year\n",
    "        ,p.player_name\n",
    "        ,sum(b.runs_scored) as runs_scored\n",
    "        ,rank()over(partition by m.season_year order by sum(b.runs_scored) desc) as rank\n",
    "        FROM ball_by_ball b\n",
    "        JOIN match_ m on b.match_id = m.match_id\n",
    "        join player_match pm on pm.match_id = m.match_id and b.striker = pm.player_id  \n",
    "        join player p on pm.player_id = p.player_id\n",
    "        GROUP BY 1, 2\n",
    "        order by 1,3 desc)\n",
    "    WHERE rank = 1\n",
    "                              \"\"\")"
   ]
  },
  {
   "cell_type": "code",
   "execution_count": 0,
   "metadata": {
    "application/vnd.databricks.v1+cell": {
     "cellMetadata": {
      "byteLimit": 2048000,
      "rowLimit": 10000
     },
     "inputWidgets": {},
     "nuid": "1f4f4604-9975-48cf-ab9c-11b002bbeba6",
     "showTitle": false,
     "tableResultSettingsMap": {},
     "title": ""
    }
   },
   "outputs": [
    {
     "output_type": "stream",
     "name": "stdout",
     "output_type": "stream",
     "text": [
      "+-----------+-----------+-----------+\n|season_year|player_name|runs_scored|\n+-----------+-----------+-----------+\n|       2008|    semarsh|        614|\n|       2009|   mlhayden|        571|\n|       2010|srtendulkar|        615|\n|       2011|    chgayle|        598|\n|       2012|    chgayle|        720|\n|       2013|  mekhussey|        732|\n|       2014|  rvuthappa|        659|\n|       2015|   dawarner|        554|\n|       2016|     vkohli|        962|\n|       2017|   dawarner|        634|\n+-----------+-----------+-----------+\n\n"
     ]
    }
   ],
   "source": [
    "orange_cap_winner.show()"
   ]
  },
  {
   "cell_type": "code",
   "execution_count": 0,
   "metadata": {
    "application/vnd.databricks.v1+cell": {
     "cellMetadata": {
      "byteLimit": 2048000,
      "rowLimit": 10000
     },
     "inputWidgets": {},
     "nuid": "5d6dec8f-fff7-4fae-a54f-25ec7a6410d0",
     "showTitle": false,
     "tableResultSettingsMap": {},
     "title": ""
    }
   },
   "outputs": [],
   "source": [
    "# Highest run scored by young player\n",
    "highest_run_by_young_player = spark.sql(\n",
    "    \"\"\"\n",
    "        (SELECT m.season_year\n",
    "        ,p.player_name\n",
    "        ,pm.age_as_on_match\n",
    "        ,sum(b.runs_scored) as runs_scored\n",
    "        FROM ball_by_ball b\n",
    "        JOIN match_ m on b.match_id = m.match_id\n",
    "        join player_match pm on pm.match_id = m.match_id and b.striker = pm.player_id  \n",
    "        join player p on pm.player_id = p.player_id\n",
    "        where pm.under_20 = 1\n",
    "        GROUP BY 1, 2,3\n",
    "        order by 3 desc)\n",
    "    \"\"\"\n",
    ")"
   ]
  },
  {
   "cell_type": "code",
   "execution_count": 0,
   "metadata": {
    "application/vnd.databricks.v1+cell": {
     "cellMetadata": {
      "byteLimit": 2048000,
      "rowLimit": 10000
     },
     "inputWidgets": {},
     "nuid": "91adb02e-45a8-4127-970e-1b6ac2a7d96a",
     "showTitle": false,
     "tableResultSettingsMap": {},
     "title": ""
    }
   },
   "outputs": [
    {
     "output_type": "stream",
     "name": "stdout",
     "output_type": "stream",
     "text": [
      "+-----------+----------------+---------------+-----------+\n|season_year|     player_name|age_as_on_match|runs_scored|\n+-----------+----------------+---------------+-----------+\n|       2017|     ishankishan|             19|        277|\n|       2013|        svsamson|             19|        206|\n|       2010|    mandeepsingh|             19|          4|\n|       2008|        mkpandey|             19|          3|\n|       2008|        sstiwary|             19|         26|\n|       2009|     shoaibahmed|             19|          1|\n|       2016|          rrpant|             19|        198|\n|       2008|  pmsarveshkumar|             19|          1|\n|       2008|    iqbalabdulla|             19|          1|\n|       2008|    tmsrivastava|             19|          8|\n|       2017|      rashidkhan|             19|         11|\n|       2008|       spgoswami|             19|         82|\n|       2012|           pnegi|             19|         36|\n|       2009|          ynagar|             19|         20|\n|       2012|        ubtchand|             19|         36|\n|       2009|       pjsangwan|             19|          6|\n|       2010|         mrmarsh|             19|         28|\n|       2016|          snkhan|             19|         66|\n|       2008|       pjsangwan|             18|          2|\n|       2016|     ishankishan|             18|         42|\n|       2008|         amukund|             18|          0|\n|       2015|          snkhan|             18|        110|\n|       2011|        ubtchand|             18|          2|\n|       2017|washingtonsundar|             18|          9|\n|       2009|      kamrankhan|             18|          3|\n|       2017|        rdchahar|             18|          3|\n|       2010|    harmeetsingh|             18|          0|\n+-----------+----------------+---------------+-----------+\n\n"
     ]
    }
   ],
   "source": [
    "highest_run_by_young_player.show(30)"
   ]
  },
  {
   "cell_type": "code",
   "execution_count": 0,
   "metadata": {
    "application/vnd.databricks.v1+cell": {
     "cellMetadata": {
      "byteLimit": 2048000,
      "rowLimit": 10000
     },
     "inputWidgets": {},
     "nuid": "ce128ce6-4dac-4b64-97b9-7d2367fce7fe",
     "showTitle": false,
     "tableResultSettingsMap": {},
     "title": ""
    }
   },
   "outputs": [],
   "source": [
    "top_5_indian_batsman = spark.sql(\"\"\"\n",
    "    SELECT season_year, player_name, runs_scored FROM\n",
    "        (SELECT m.season_year\n",
    "        ,p.player_name\n",
    "        ,sum(b.runs_scored) as runs_scored\n",
    "        ,rank()over(partition by m.season_year order by sum(b.runs_scored) desc) as rank\n",
    "        FROM ball_by_ball b\n",
    "        JOIN match_ m on b.match_id = m.match_id\n",
    "        join player_match pm on pm.match_id = m.match_id and b.striker = pm.player_id  \n",
    "        join player p on pm.player_id = p.player_id\n",
    "        where p.country_name = 'India'\n",
    "        GROUP BY 1, 2\n",
    "        order by 1,3 desc)\n",
    "    WHERE rank <= 5\n",
    "                              \"\"\")"
   ]
  },
  {
   "cell_type": "code",
   "execution_count": 0,
   "metadata": {
    "application/vnd.databricks.v1+cell": {
     "cellMetadata": {
      "byteLimit": 2048000,
      "rowLimit": 10000
     },
     "inputWidgets": {},
     "nuid": "db2d61b0-904e-49b2-8cf1-4a76e4ed9815",
     "showTitle": false,
     "tableResultSettingsMap": {},
     "title": ""
    }
   },
   "outputs": [
    {
     "output_type": "stream",
     "name": "stdout",
     "output_type": "stream",
     "text": [
      "+-----------+-----------+-----------+\n|season_year|player_name|runs_scored|\n+-----------+-----------+-----------+\n|       2008|   ggambhir|        532|\n|       2008|   ykpathan|        430|\n|       2008|    skraina|        420|\n|       2008|    msdhoni|        414|\n|       2008|    vsehwag|        399|\n|       2008|   rgsharma|        399|\n|       2009|    skraina|        433|\n|       2009|srtendulkar|        363|\n|       2009|   rgsharma|        354|\n|       2009|yuvrajsingh|        340|\n|       2009|    msdhoni|        332|\n|       2010|srtendulkar|        615|\n|       2010|    skraina|        520|\n|       2010|  scganguly|        493|\n|       2010|     mvijay|        458|\n|       2010|   sstiwary|        417|\n|       2011|     vkohli|        557|\n|       2011|srtendulkar|        553|\n|       2011| pcvalthaty|        453|\n|       2011|    skraina|        437|\n|       2011|     mvijay|        434|\n|       2012|   ggambhir|        590|\n|       2012|    sdhawan|        568|\n|       2012|   amrahane|        560|\n|       2012|    vsehwag|        495|\n|       2012|    rdravid|        462|\n|       2013|     vkohli|        636|\n|       2013|    skraina|        546|\n|       2013|   rgsharma|        532|\n|       2013|  kdkarthik|        505|\n|       2013|   amrahane|        488|\n|       2014|  rvuthappa|        659|\n|       2014|    skraina|        519|\n|       2014|    vsehwag|        455|\n|       2014|   mkpandey|        409|\n|       2014|   rgsharma|        390|\n|       2015|   amrahane|        540|\n|       2015|     vkohli|        505|\n|       2015|   rgsharma|        482|\n|       2015|     ssiyer|        439|\n|       2015|    skraina|        374|\n|       2016|     vkohli|        962|\n|       2016|   ggambhir|        501|\n|       2016|    sdhawan|        497|\n|       2016|   rgsharma|        487|\n|       2016|   amrahane|        479|\n|       2017|   ggambhir|        498|\n|       2017|    sdhawan|        478|\n|       2017|   spdsmith|        472|\n|       2017|    skraina|        438|\n|       2017|    papatel|        395|\n+-----------+-----------+-----------+\n\n"
     ]
    }
   ],
   "source": [
    "top_5_indian_batsman.show(100)"
   ]
  },
  {
   "cell_type": "code",
   "execution_count": 0,
   "metadata": {
    "application/vnd.databricks.v1+cell": {
     "cellMetadata": {
      "byteLimit": 2048000,
      "rowLimit": 10000
     },
     "inputWidgets": {},
     "nuid": "bb5ea6cc-c642-42ac-945d-e6701a255360",
     "showTitle": false,
     "tableResultSettingsMap": {},
     "title": ""
    }
   },
   "outputs": [],
   "source": [
    "## How many teams does won the match after wining toss\n",
    "\n",
    "toss_match_winner = spark.sql(\n",
    "    \"\"\"\n",
    "    SELECT m.match_winner, count(*)\n",
    "    from match_ m\n",
    "    where m.toss_match_winner = 'Yes'\n",
    "    GROUP BY 1\n",
    "    order by 2 DESC\n",
    "    \"\"\"\n",
    ")\n"
   ]
  },
  {
   "cell_type": "code",
   "execution_count": 0,
   "metadata": {
    "application/vnd.databricks.v1+cell": {
     "cellMetadata": {
      "byteLimit": 2048000,
      "rowLimit": 10000
     },
     "inputWidgets": {},
     "nuid": "26a7e4f6-042c-4f91-9ba4-3913d66e5d40",
     "showTitle": false,
     "tableResultSettingsMap": {},
     "title": ""
    }
   },
   "outputs": [
    {
     "output_type": "stream",
     "name": "stdout",
     "output_type": "stream",
     "text": [
      "+--------------------+--------+\n|        match_winner|count(1)|\n+--------------------+--------+\n|      Mumbai Indians|      48|\n|Kolkata Knight Ri...|      44|\n| Chennai Super Kings|      42|\n|Royal Challengers...|      35|\n|    Rajasthan Royals|      34|\n|    Delhi Daredevils|      33|\n|     Kings XI Punjab|      28|\n|     Deccan Chargers|      19|\n| Sunrisers Hyderabad|      17|\n|       Gujarat Lions|      10|\n|Rising Pune Super...|       7|\n|Kochi Tuskers Kerala|       4|\n|       Pune Warriors|       3|\n+--------------------+--------+\n\n"
     ]
    }
   ],
   "source": [
    "toss_match_winner.show(30)"
   ]
  },
  {
   "cell_type": "code",
   "execution_count": 0,
   "metadata": {
    "application/vnd.databricks.v1+cell": {
     "cellMetadata": {
      "byteLimit": 2048000,
      "rowLimit": 10000
     },
     "inputWidgets": {},
     "nuid": "e932cdfe-07e6-47d3-a2af-3d69d6a675b8",
     "showTitle": false,
     "tableResultSettingsMap": {},
     "title": ""
    }
   },
   "outputs": [],
   "source": [
    "## Most economical bowler in powerplay who bowls at least 5 overs in a powerplay in a season\n",
    "economical_bowler_in_pp = spark.sql(\n",
    "    \"\"\"\n",
    "    WITH CTE AS (\n",
    "        SELECT p.player_name, pm.season_year, avg(b.runs_scored) as AVG_RUN\n",
    "        , dense_rank()over(partition by pm.season_year order by avg(b.runs_scored)) as ranki\n",
    "        FROM ball_by_ball b\n",
    "        JOIN player p  on b.bowler = p.player_id\n",
    "        JOIN player_match pm on pm.player_id = b.bowler_sk and pm.match_id = b.match_id\n",
    "        JOIN match_ m on m.match_id = b.match_id\n",
    "        where b.over_id < 6\n",
    "        group by 2, 1\n",
    "        having count(*) > 30\n",
    "        order by 2,3,1\n",
    "    )\n",
    "    SELECT\n",
    "    player_name, season_year, AVG_RUN\n",
    "    FROM CTE WHERE ranki <= 5\n",
    "    \"\"\"\n",
    ")\n"
   ]
  },
  {
   "cell_type": "code",
   "execution_count": 0,
   "metadata": {
    "application/vnd.databricks.v1+cell": {
     "cellMetadata": {
      "byteLimit": 2048000,
      "rowLimit": 10000
     },
     "inputWidgets": {},
     "nuid": "d7ec3ef0-5a55-432a-a0a3-9f5fa4c110ce",
     "showTitle": false,
     "tableResultSettingsMap": {},
     "title": ""
    }
   },
   "outputs": [
    {
     "output_type": "stream",
     "name": "stdout",
     "output_type": "stream",
     "text": [
      "+-------------+-----------+------------------+\n|  player_name|season_year|           AVG_RUN|\n+-------------+-----------+------------------+\n|      isharma|       2008|0.7222222222222222|\n| sohailtanvir|       2008|0.7407407407407407|\n|      dwsteyn|       2008|0.8571428571428571|\n|   ssreesanth|       2008|0.9444444444444444|\n|       mntini|       2008|0.9722222222222222|\n|         blee|       2009|0.9166666666666666|\n|      isharma|       2009|0.9473684210526315|\n|     jhkallis|       2009|               1.0|\n|     ikpathan|       2009|1.2647058823529411|\n|       msgony|       2009|            1.5625|\n|     rmclaren|       2010|1.2380952380952381|\n|     srwatson|       2010| 1.271186440677966|\n|      isharma|       2010|1.3636363636363635|\n|   mfmaharoof|       2010|1.4166666666666667|\n|      rpsingh|       2010|1.4583333333333333|\n| sjsrivastava|       2010|1.4583333333333333|\n|      dwsteyn|       2011|0.9696969696969697|\n|     acthomas|       2011| 1.037037037037037|\n|      dwsteyn|       2012|0.7777777777777778|\n|    mnsamuels|       2012|1.0925925925925926|\n| vpratapsingh|       2012|1.5555555555555556|\n|   jpfaulkner|       2013|0.8111111111111111|\n|  mchenriques|       2013|1.0606060606060606|\n| azharmahmood|       2013|1.1111111111111112|\n|    mgjohnson|       2013|1.2121212121212122|\n|mohammedshami|       2014|1.2156862745098038|\n|    mgjohnson|       2014|1.2407407407407407|\n|     crwoakes|       2017|1.8888888888888888|\n+-------------+-----------+------------------+\n\n"
     ]
    }
   ],
   "source": [
    "economical_bowler_in_pp.show(50)"
   ]
  },
  {
   "cell_type": "code",
   "execution_count": 0,
   "metadata": {
    "application/vnd.databricks.v1+cell": {
     "cellMetadata": {
      "byteLimit": 2048000,
      "rowLimit": 10000
     },
     "inputWidgets": {},
     "nuid": "64dec1d4-42a0-4b7a-886b-359577b85f17",
     "showTitle": false,
     "tableResultSettingsMap": {},
     "title": ""
    }
   },
   "outputs": [],
   "source": [
    "ball_by_ball_df = ball_by_ball_df.withColumn(\n",
    "    \"bower_wicket_num\", \n",
    "    when((col('bowler_wicket') == 'true'), 1).otherwise(0)\n",
    ")\n",
    "ball_by_ball_df.createOrReplaceTempView(\"ball_by_ball\")"
   ]
  },
  {
   "cell_type": "code",
   "execution_count": 0,
   "metadata": {
    "application/vnd.databricks.v1+cell": {
     "cellMetadata": {
      "byteLimit": 2048000,
      "rowLimit": 10000
     },
     "inputWidgets": {},
     "nuid": "1120ad4c-b909-41a5-a45c-9d24f244d951",
     "showTitle": false,
     "tableResultSettingsMap": {},
     "title": ""
    }
   },
   "outputs": [],
   "source": [
    "# purple cap holder\n",
    "purple_cap = spark.sql(\n",
    "    \"\"\"\n",
    "    WITH CTE AS (\n",
    "        SELECT p.player_name, pm.season_year, avg(b.runs_scored) AS AVG_RUN \n",
    "        ,sum(bower_wicket_num) AS total_wicket\n",
    "        , dense_rank()over(partition by pm.season_year order by avg(b.runs_scored)) as ranki\n",
    "        FROM ball_by_ball b\n",
    "        JOIN player p  on b.bowler = p.player_id\n",
    "        JOIN player_match pm on pm.player_id = b.bowler_sk and pm.match_id = b.match_id\n",
    "        JOIN match_ m on m.match_id = b.match_id\n",
    "        group by 2, 1\n",
    "        order by 2,4 desc,3,1\n",
    "    )\n",
    "    SELECT\n",
    "    player_name, season_year, TOTAL_WICKET, AVG_RUN\n",
    "    FROM CTE WHERE ranki = 1\n",
    "    \"\"\"\n",
    ")"
   ]
  },
  {
   "cell_type": "code",
   "execution_count": 0,
   "metadata": {
    "application/vnd.databricks.v1+cell": {
     "cellMetadata": {
      "byteLimit": 2048000,
      "rowLimit": 10000
     },
     "inputWidgets": {},
     "nuid": "33a36a2f-c67d-4eff-a75a-cc79fd280168",
     "showTitle": false,
     "tableResultSettingsMap": {},
     "title": ""
    }
   },
   "outputs": [
    {
     "output_type": "stream",
     "name": "stdout",
     "output_type": "stream",
     "text": [
      "+-----------+-----------+------------+------------------+\n|player_name|season_year|TOTAL_WICKET|           AVG_RUN|\n+-----------+-----------+------------+------------------+\n|  pjsangwan|       2008|           0|0.7916666666666666|\n|     cnanda|       2009|           0|0.6666666666666666|\n|    vsehwag|       2010|           0|0.6764705882352942|\n|    rvgomez|       2011|           0|0.6666666666666666|\n|dtchristian|       2012|           0|0.6666666666666666|\n| dskulkarni|       2013|           0|0.5833333333333334|\n|   srwatson|       2014|           0|0.8333333333333334|\n|mchenriques|       2015|           0|0.3333333333333333|\n|     azampa|       2016|           0|0.7916666666666666|\n|      ajtye|       2017|           0|               0.5|\n+-----------+-----------+------------+------------------+\n\n"
     ]
    }
   ],
   "source": [
    "# Since we have data issue from the source. There is no data in bowler_wicket column, so we are getting 0 wickets\n",
    "purple_cap.show()"
   ]
  },
  {
   "cell_type": "code",
   "execution_count": 0,
   "metadata": {
    "application/vnd.databricks.v1+cell": {
     "cellMetadata": {},
     "inputWidgets": {},
     "nuid": "3b342deb-4ade-4130-9ac5-e59f361ed857",
     "showTitle": false,
     "tableResultSettingsMap": {},
     "title": ""
    }
   },
   "outputs": [],
   "source": []
  }
 ],
 "metadata": {
  "application/vnd.databricks.v1+notebook": {
   "computePreferences": null,
   "dashboards": [],
   "environmentMetadata": {
    "base_environment": "",
    "client": "1"
   },
   "language": "python",
   "notebookMetadata": {
    "pythonIndentUnit": 4
   },
   "notebookName": "IPL_Data_Analysis",
   "widgets": {}
  }
 },
 "nbformat": 4,
 "nbformat_minor": 0
}
